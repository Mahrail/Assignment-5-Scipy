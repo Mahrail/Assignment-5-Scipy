{
 "cells": [
  {
   "cell_type": "markdown",
   "id": "4997795d",
   "metadata": {},
   "source": [
    "# Lab 5: Scipy\n",
    "In this lab, we'll be reviewing the applications and uses of Scipy.\n",
    "\n",
    "## Prompt\n",
    "Use your knowledge of different scipy functions to accomplish the listed tasks.\n",
    "Load the constants, integrate, interpolate, linear algebra, and stats modules of the Scipy library"
   ]
  },
  {
   "cell_type": "code",
   "execution_count": null,
   "id": "0dea5e28",
   "metadata": {},
   "outputs": [],
   "source": []
  },
  {
   "cell_type": "markdown",
   "id": "437a3d05",
   "metadata": {},
   "source": [
    "1. Print the value of the golden ratio"
   ]
  },
  {
   "cell_type": "code",
   "execution_count": null,
   "id": "afd82376",
   "metadata": {},
   "outputs": [],
   "source": []
  },
  {
   "cell_type": "markdown",
   "id": "f9d669d4",
   "metadata": {},
   "source": [
    "2. Determine the collective charge of $2.45 * 10 ^ 8$ electrons"
   ]
  },
  {
   "cell_type": "code",
   "execution_count": null,
   "id": "6ac55035",
   "metadata": {},
   "outputs": [],
   "source": []
  },
  {
   "cell_type": "markdown",
   "id": "5e578b48",
   "metadata": {},
   "source": [
    "3. Evaluate the following integral $\\int_{0}^{\\pi} sin(x) dx$"
   ]
  },
  {
   "cell_type": "code",
   "execution_count": null,
   "id": "3f3165a9",
   "metadata": {},
   "outputs": [],
   "source": []
  },
  {
   "cell_type": "markdown",
   "id": "6d51ed5b",
   "metadata": {},
   "source": [
    "4. Evaluate the following integral $\\int_{0}^{3} xy + 4y^2 + 3x^2y dx$, when y is 5"
   ]
  },
  {
   "cell_type": "code",
   "execution_count": null,
   "id": "609fbc54",
   "metadata": {},
   "outputs": [],
   "source": []
  },
  {
   "cell_type": "markdown",
   "id": "f29cfeee",
   "metadata": {},
   "source": [
    "5. Create a linear regression of the following data:"
   ]
  },
  {
   "cell_type": "code",
   "execution_count": null,
   "id": "a70aef9d",
   "metadata": {},
   "outputs": [],
   "source": [
    "x_data = [9, 3, 0, 3, 0, 0, 6, 4, 4, 5, 7, 3, 9, 8, 4, 8, 8, 8, 0, 6, 7, 4, 8, 4, 4, 3, 2, 6, 6, 6]\n",
    "y_data = [730, 28, 0, 27, 0, 0, 217, 65, 65, 126, 343, 27, 729, 513, 65, 512, 512, 512, 1, 216, 343, 65, 512, 64, 65, 28, 9, 216, 216, 217]\n",
    "\n"
   ]
  },
  {
   "cell_type": "markdown",
   "id": "3e77dc24",
   "metadata": {},
   "source": [
    "6. Create a linear spline interpolation of data from part 5."
   ]
  },
  {
   "cell_type": "code",
   "execution_count": null,
   "id": "4226f14e",
   "metadata": {},
   "outputs": [],
   "source": []
  },
  {
   "cell_type": "markdown",
   "id": "da7246c4",
   "metadata": {},
   "source": [
    "7. Evaluate both interpolations from part 5 and 6 using the following array."
   ]
  },
  {
   "cell_type": "code",
   "execution_count": null,
   "id": "f47b0325",
   "metadata": {},
   "outputs": [],
   "source": [
    "test_input = [3, 4, 5, 6, 7]"
   ]
  },
  {
   "cell_type": "markdown",
   "id": "a02b3889",
   "metadata": {},
   "source": [
    "8. The true values of the function between x and y are given in the following array. Calculate total sum of the difference between both interpolations and the true values."
   ]
  },
  {
   "cell_type": "code",
   "execution_count": null,
   "id": "518fda79",
   "metadata": {},
   "outputs": [],
   "source": [
    "true_vals = [27, 64, 125, 216, 343]"
   ]
  },
  {
   "cell_type": "markdown",
   "id": "666844a8",
   "metadata": {},
   "source": [
    "9. Based upon the values observed in part 8, determine which interpolation is better. Defend your statement."
   ]
  },
  {
   "cell_type": "markdown",
   "id": "e0fe72ba",
   "metadata": {},
   "source": []
  },
  {
   "cell_type": "markdown",
   "id": "9158041b",
   "metadata": {},
   "source": [
    "10. Consider the following series of equations, write the corresponding matrix and matching vector.\n",
    "$$ 3x - 4y + 2z = 20 $$\n",
    "$$ -x + 4y + 6z = 24 $$\n",
    "$$ 8x + 5y - z = 6 $$"
   ]
  },
  {
   "cell_type": "code",
   "execution_count": null,
   "id": "a2c5bea7",
   "metadata": {},
   "outputs": [],
   "source": []
  },
  {
   "cell_type": "markdown",
   "id": "b89129c0",
   "metadata": {},
   "source": [
    "11. Compute the determinant of the matrix from part 10."
   ]
  },
  {
   "cell_type": "code",
   "execution_count": null,
   "id": "694098dd",
   "metadata": {},
   "outputs": [],
   "source": []
  },
  {
   "cell_type": "markdown",
   "id": "6ae4eab2",
   "metadata": {},
   "source": [
    "12. Compute the inverse of the matrix from part 10."
   ]
  },
  {
   "cell_type": "code",
   "execution_count": null,
   "id": "090ed442",
   "metadata": {},
   "outputs": [],
   "source": []
  },
  {
   "cell_type": "markdown",
   "id": "27ee5042",
   "metadata": {},
   "source": [
    "13. Determine the solution of the series of equations from part 10."
   ]
  },
  {
   "cell_type": "code",
   "execution_count": null,
   "id": "561d6a31",
   "metadata": {},
   "outputs": [],
   "source": []
  },
  {
   "cell_type": "markdown",
   "id": "a3a1c295",
   "metadata": {},
   "source": [
    "14. Generate an array of 100 samples from a normal distribution with a mean of 100 and a standard deviation of 20."
   ]
  },
  {
   "cell_type": "code",
   "execution_count": null,
   "id": "58c58a01",
   "metadata": {},
   "outputs": [],
   "source": []
  },
  {
   "cell_type": "markdown",
   "id": "71a9f405",
   "metadata": {},
   "source": [
    "15. Perform a t-test comparing the data generated from part 14 and the following data."
   ]
  },
  {
   "cell_type": "code",
   "execution_count": null,
   "id": "2111d6d8",
   "metadata": {},
   "outputs": [],
   "source": [
    "sample_data = [97, 83, 79, 67, 100, 75, 75, 81, 90, 96, 91, 93, 81, 97, 94, 98, 98, 103, 77, 86]"
   ]
  }
 ],
 "metadata": {
  "kernelspec": {
   "display_name": "Python 3 (ipykernel)",
   "language": "python",
   "name": "python3"
  },
  "language_info": {
   "codemirror_mode": {
    "name": "ipython",
    "version": 3
   },
   "file_extension": ".py",
   "mimetype": "text/x-python",
   "name": "python",
   "nbconvert_exporter": "python",
   "pygments_lexer": "ipython3",
   "version": "3.9.17"
  }
 },
 "nbformat": 4,
 "nbformat_minor": 5
}
